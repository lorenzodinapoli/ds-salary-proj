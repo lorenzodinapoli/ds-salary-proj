{
 "cells": [
  {
   "cell_type": "markdown",
   "id": "c6ad44ee",
   "metadata": {},
   "source": [
    "# Data Cleaning\n",
    "\n",
    "We want to clean the data and add a few columns that will be useful when doing data exploration and in the model.\n",
    "\n",
    "    1. Salary parsing\n",
    "    2. company name text only\n",
    "    3. Age of company\n",
    "    4. Parsing of job description (python, etc.)\n",
    "    5. Is job position at headquarter?\n",
    "    6. Simplifying job titles\n",
    "    7. Seniority levels\n",
    "    8. State and City\n",
    "    9. Competitor Count\n",
    "    10. Hourly wage to annual\n",
    "    11. Description Length"
   ]
  },
  {
   "cell_type": "code",
   "execution_count": 163,
   "id": "e4c20869",
   "metadata": {},
   "outputs": [],
   "source": [
    "import pandas as pd"
   ]
  },
  {
   "cell_type": "code",
   "execution_count": 164,
   "id": "31987905",
   "metadata": {},
   "outputs": [],
   "source": [
    "df = pd.read_csv(\"/path/DataScientist.csv\")"
   ]
  },
  {
   "cell_type": "code",
   "execution_count": 165,
   "id": "b1d8b9b0",
   "metadata": {},
   "outputs": [
    {
     "data": {
      "text/html": [
       "<div>\n",
       "<style scoped>\n",
       "    .dataframe tbody tr th:only-of-type {\n",
       "        vertical-align: middle;\n",
       "    }\n",
       "\n",
       "    .dataframe tbody tr th {\n",
       "        vertical-align: top;\n",
       "    }\n",
       "\n",
       "    .dataframe thead th {\n",
       "        text-align: right;\n",
       "    }\n",
       "</style>\n",
       "<table border=\"1\" class=\"dataframe\">\n",
       "  <thead>\n",
       "    <tr style=\"text-align: right;\">\n",
       "      <th></th>\n",
       "      <th>Unnamed: 0</th>\n",
       "      <th>index</th>\n",
       "      <th>Job Title</th>\n",
       "      <th>Salary Estimate</th>\n",
       "      <th>Job Description</th>\n",
       "      <th>Rating</th>\n",
       "      <th>Company Name</th>\n",
       "      <th>Location</th>\n",
       "      <th>Headquarters</th>\n",
       "      <th>Size</th>\n",
       "      <th>Founded</th>\n",
       "      <th>Type of ownership</th>\n",
       "      <th>Industry</th>\n",
       "      <th>Sector</th>\n",
       "      <th>Revenue</th>\n",
       "      <th>Competitors</th>\n",
       "      <th>Easy Apply</th>\n",
       "    </tr>\n",
       "  </thead>\n",
       "  <tbody>\n",
       "    <tr>\n",
       "      <th>0</th>\n",
       "      <td>0</td>\n",
       "      <td>0</td>\n",
       "      <td>Senior Data Scientist</td>\n",
       "      <td>$111K-$181K (Glassdoor est.)</td>\n",
       "      <td>ABOUT HOPPER\\n\\nAt Hopper, we’re on a mission ...</td>\n",
       "      <td>3.5</td>\n",
       "      <td>Hopper\\n3.5</td>\n",
       "      <td>New York, NY</td>\n",
       "      <td>Montreal, Canada</td>\n",
       "      <td>501 to 1000 employees</td>\n",
       "      <td>2007</td>\n",
       "      <td>Company - Private</td>\n",
       "      <td>Travel Agencies</td>\n",
       "      <td>Travel &amp; Tourism</td>\n",
       "      <td>Unknown / Non-Applicable</td>\n",
       "      <td>-1</td>\n",
       "      <td>-1</td>\n",
       "    </tr>\n",
       "    <tr>\n",
       "      <th>1</th>\n",
       "      <td>1</td>\n",
       "      <td>1</td>\n",
       "      <td>Data Scientist, Product Analytics</td>\n",
       "      <td>$111K-$181K (Glassdoor est.)</td>\n",
       "      <td>At Noom, we use scientifically proven methods ...</td>\n",
       "      <td>4.5</td>\n",
       "      <td>Noom US\\n4.5</td>\n",
       "      <td>New York, NY</td>\n",
       "      <td>New York, NY</td>\n",
       "      <td>1001 to 5000 employees</td>\n",
       "      <td>2008</td>\n",
       "      <td>Company - Private</td>\n",
       "      <td>Health, Beauty, &amp; Fitness</td>\n",
       "      <td>Consumer Services</td>\n",
       "      <td>Unknown / Non-Applicable</td>\n",
       "      <td>-1</td>\n",
       "      <td>-1</td>\n",
       "    </tr>\n",
       "    <tr>\n",
       "      <th>2</th>\n",
       "      <td>2</td>\n",
       "      <td>2</td>\n",
       "      <td>Data Science Manager</td>\n",
       "      <td>$111K-$181K (Glassdoor est.)</td>\n",
       "      <td>Decode_M\\n\\nhttps://www.decode-m.com/\\n\\nData ...</td>\n",
       "      <td>-1.0</td>\n",
       "      <td>Decode_M</td>\n",
       "      <td>New York, NY</td>\n",
       "      <td>New York, NY</td>\n",
       "      <td>1 to 50 employees</td>\n",
       "      <td>-1</td>\n",
       "      <td>Unknown</td>\n",
       "      <td>-1</td>\n",
       "      <td>-1</td>\n",
       "      <td>Unknown / Non-Applicable</td>\n",
       "      <td>-1</td>\n",
       "      <td>True</td>\n",
       "    </tr>\n",
       "    <tr>\n",
       "      <th>3</th>\n",
       "      <td>3</td>\n",
       "      <td>3</td>\n",
       "      <td>Data Analyst</td>\n",
       "      <td>$111K-$181K (Glassdoor est.)</td>\n",
       "      <td>Sapphire Digital seeks a dynamic and driven mi...</td>\n",
       "      <td>3.4</td>\n",
       "      <td>Sapphire Digital\\n3.4</td>\n",
       "      <td>Lyndhurst, NJ</td>\n",
       "      <td>Lyndhurst, NJ</td>\n",
       "      <td>201 to 500 employees</td>\n",
       "      <td>2019</td>\n",
       "      <td>Company - Private</td>\n",
       "      <td>Internet</td>\n",
       "      <td>Information Technology</td>\n",
       "      <td>Unknown / Non-Applicable</td>\n",
       "      <td>Zocdoc, Healthgrades</td>\n",
       "      <td>-1</td>\n",
       "    </tr>\n",
       "    <tr>\n",
       "      <th>4</th>\n",
       "      <td>4</td>\n",
       "      <td>4</td>\n",
       "      <td>Director, Data Science</td>\n",
       "      <td>$111K-$181K (Glassdoor est.)</td>\n",
       "      <td>Director, Data Science - (200537)\\nDescription...</td>\n",
       "      <td>3.4</td>\n",
       "      <td>United Entertainment Group\\n3.4</td>\n",
       "      <td>New York, NY</td>\n",
       "      <td>New York, NY</td>\n",
       "      <td>51 to 200 employees</td>\n",
       "      <td>2007</td>\n",
       "      <td>Company - Private</td>\n",
       "      <td>Advertising &amp; Marketing</td>\n",
       "      <td>Business Services</td>\n",
       "      <td>Unknown / Non-Applicable</td>\n",
       "      <td>BBDO, Grey Group, Droga5</td>\n",
       "      <td>-1</td>\n",
       "    </tr>\n",
       "  </tbody>\n",
       "</table>\n",
       "</div>"
      ],
      "text/plain": [
       "   Unnamed: 0  index                          Job Title  \\\n",
       "0           0      0              Senior Data Scientist   \n",
       "1           1      1  Data Scientist, Product Analytics   \n",
       "2           2      2               Data Science Manager   \n",
       "3           3      3                       Data Analyst   \n",
       "4           4      4             Director, Data Science   \n",
       "\n",
       "                Salary Estimate  \\\n",
       "0  $111K-$181K (Glassdoor est.)   \n",
       "1  $111K-$181K (Glassdoor est.)   \n",
       "2  $111K-$181K (Glassdoor est.)   \n",
       "3  $111K-$181K (Glassdoor est.)   \n",
       "4  $111K-$181K (Glassdoor est.)   \n",
       "\n",
       "                                     Job Description  Rating  \\\n",
       "0  ABOUT HOPPER\\n\\nAt Hopper, we’re on a mission ...     3.5   \n",
       "1  At Noom, we use scientifically proven methods ...     4.5   \n",
       "2  Decode_M\\n\\nhttps://www.decode-m.com/\\n\\nData ...    -1.0   \n",
       "3  Sapphire Digital seeks a dynamic and driven mi...     3.4   \n",
       "4  Director, Data Science - (200537)\\nDescription...     3.4   \n",
       "\n",
       "                      Company Name       Location      Headquarters  \\\n",
       "0                      Hopper\\n3.5   New York, NY  Montreal, Canada   \n",
       "1                     Noom US\\n4.5   New York, NY      New York, NY   \n",
       "2                         Decode_M   New York, NY      New York, NY   \n",
       "3            Sapphire Digital\\n3.4  Lyndhurst, NJ     Lyndhurst, NJ   \n",
       "4  United Entertainment Group\\n3.4   New York, NY      New York, NY   \n",
       "\n",
       "                     Size  Founded  Type of ownership  \\\n",
       "0   501 to 1000 employees     2007  Company - Private   \n",
       "1  1001 to 5000 employees     2008  Company - Private   \n",
       "2       1 to 50 employees       -1            Unknown   \n",
       "3    201 to 500 employees     2019  Company - Private   \n",
       "4     51 to 200 employees     2007  Company - Private   \n",
       "\n",
       "                    Industry                  Sector  \\\n",
       "0            Travel Agencies        Travel & Tourism   \n",
       "1  Health, Beauty, & Fitness       Consumer Services   \n",
       "2                         -1                      -1   \n",
       "3                   Internet  Information Technology   \n",
       "4    Advertising & Marketing       Business Services   \n",
       "\n",
       "                    Revenue               Competitors Easy Apply  \n",
       "0  Unknown / Non-Applicable                        -1         -1  \n",
       "1  Unknown / Non-Applicable                        -1         -1  \n",
       "2  Unknown / Non-Applicable                        -1       True  \n",
       "3  Unknown / Non-Applicable      Zocdoc, Healthgrades         -1  \n",
       "4  Unknown / Non-Applicable  BBDO, Grey Group, Droga5         -1  "
      ]
     },
     "execution_count": 165,
     "metadata": {},
     "output_type": "execute_result"
    }
   ],
   "source": [
    "df.head()"
   ]
  },
  {
   "cell_type": "markdown",
   "id": "623f46d0",
   "metadata": {},
   "source": [
    "## 1. Salary Parsing"
   ]
  },
  {
   "cell_type": "code",
   "execution_count": 166,
   "id": "13c24972",
   "metadata": {},
   "outputs": [
    {
     "data": {
      "text/plain": [
       "array(['$111K-$181K (Glassdoor est.)', '$120K-$140K (Glassdoor est.)',\n",
       "       '$119K-$147K (Glassdoor est.)', '$74K-$124K (Glassdoor est.)',\n",
       "       '$102K-$121K (Glassdoor est.)', '$129K-$210K (Glassdoor est.)',\n",
       "       '$156K-$254K (Glassdoor est.)', '$116K-$152K (Glassdoor est.)',\n",
       "       '$133K-$171K (Glassdoor est.)', '$110K-$139K (Glassdoor est.)',\n",
       "       '$82K-$141K (Glassdoor est.)', '$96K-$119K (Glassdoor est.)',\n",
       "       '$146K-$175K (Glassdoor est.)', '$102K-$164K (Glassdoor est.)',\n",
       "       '$113K-$180K (Glassdoor est.)', '$76K-$122K (Glassdoor est.)',\n",
       "       '$134K-$218K (Glassdoor est.)', '$76K-$125K (Glassdoor est.)',\n",
       "       '$132K-$208K (Glassdoor est.)', '$83K-$105K (Glassdoor est.)',\n",
       "       '$75K-$143K (Glassdoor est.)', '$34K-$72K (Glassdoor est.)',\n",
       "       '$37K-$75K (Glassdoor est.)', '$113K-$184K (Glassdoor est.)',\n",
       "       '$136K-$164K (Glassdoor est.)', '$34-$53 Per Hour(Glassdoor est.)',\n",
       "       '$46K-$80K (Glassdoor est.)', '$79K-$130K (Glassdoor est.)',\n",
       "       '$91K-$105K (Glassdoor est.)', '$31K-$56K (Glassdoor est.)',\n",
       "       '$39K-$81K (Glassdoor est.)', '$99K-$174K (Glassdoor est.)',\n",
       "       '$76K-$147K (Glassdoor est.)', '$62K-$109K (Glassdoor est.)',\n",
       "       '$70K-$123K (Glassdoor est.)', '$40K-$73K (Glassdoor est.)',\n",
       "       '$38K-$59K (Glassdoor est.)', '$60K-$105K (Glassdoor est.)',\n",
       "       '$69K-$144K (Glassdoor est.)', '$47K-$82K (Glassdoor est.)',\n",
       "       '$90K-$175K (Glassdoor est.)', '$39K-$87K (Glassdoor est.)',\n",
       "       '$36K-$71K (Glassdoor est.)', '$55K-$117K (Glassdoor est.)',\n",
       "       '$114K-$144K (Glassdoor est.)', '$138K-$217K (Glassdoor est.)',\n",
       "       '$72K-$97K (Glassdoor est.)', '$73K-$136K (Glassdoor est.)',\n",
       "       '$10-$26 Per Hour(Glassdoor est.)', '$94K-$151K (Glassdoor est.)',\n",
       "       '$97K-$159K (Glassdoor est.)', '$46K-$104K (Glassdoor est.)',\n",
       "       '$45K-$81K (Glassdoor est.)', '$92K-$144K (Glassdoor est.)',\n",
       "       '$64K-$97K (Glassdoor est.)', '$47K-$73K (Glassdoor est.)',\n",
       "       '$84K-$156K (Glassdoor est.)', '$97K-$111K (Glassdoor est.)',\n",
       "       '$84K-$101K (Glassdoor est.)', '$99K-$173K (Glassdoor est.)',\n",
       "       '$93K-$151K (Glassdoor est.)', '$50K-$87K (Glassdoor est.)',\n",
       "       '$71K-$117K (Glassdoor est.)', '$44K-$80K (Glassdoor est.)',\n",
       "       '$94K-$166K (Glassdoor est.)', '$65K-$100K (Glassdoor est.)',\n",
       "       '$41K-$74K (Glassdoor est.)', '$46K-$83K (Glassdoor est.)',\n",
       "       '$45K-$106K (Glassdoor est.)', '$71K-$122K (Glassdoor est.)',\n",
       "       '$143K-$237K (Glassdoor est.)', '$70K-$154K (Glassdoor est.)',\n",
       "       '$68K-$89K (Glassdoor est.)', '$55K-$101K (Glassdoor est.)',\n",
       "       '$98K-$152K (Glassdoor est.)', '$54K-$92K (Glassdoor est.)',\n",
       "       '$74K-$140K (Glassdoor est.)', '$83K-$154K (Glassdoor est.)',\n",
       "       '$52K-$91K (Glassdoor est.)', '$43K-$76K (Glassdoor est.)',\n",
       "       '$17-$27 Per Hour(Glassdoor est.)', '$114K-$146K (Glassdoor est.)',\n",
       "       '$60K-$124K (Glassdoor est.)', '$46K-$82K (Glassdoor est.)',\n",
       "       '$83K-$165K (Glassdoor est.)', '$39K-$69K (Glassdoor est.)',\n",
       "       '$88K-$140K (Glassdoor est.)', '$74K-$129K (Glassdoor est.)',\n",
       "       '$114K-$211K (Glassdoor est.)', '$75K-$149K (Glassdoor est.)',\n",
       "       '$112K-$211K (Glassdoor est.)', '$62K-$127K (Glassdoor est.)',\n",
       "       '$86K-$178K (Glassdoor est.)', '$110K-$169K (Glassdoor est.)',\n",
       "       '$12K-$112K (Glassdoor est.)', '$12K-$111K (Glassdoor est.)',\n",
       "       '$134K-$210K (Glassdoor est.)', '$49K-$78K (Glassdoor est.)',\n",
       "       '$48K-$98K (Glassdoor est.)', '$85K-$159K (Glassdoor est.)',\n",
       "       '$51K-$79K (Glassdoor est.)', '$49K-$92K (Glassdoor est.)',\n",
       "       '$85K-$147K (Glassdoor est.)', '$45K-$78K (Glassdoor est.)',\n",
       "       '$48K-$89K (Glassdoor est.)', '$46K-$91K (Glassdoor est.)',\n",
       "       '$73K-$102K (Glassdoor est.)', '$100K-$172K (Glassdoor est.)',\n",
       "       '$93K-$149K (Glassdoor est.)', '$148K-$174K (Glassdoor est.)',\n",
       "       '$111K-$175K (Glassdoor est.)', '$150K-$237K (Glassdoor est.)',\n",
       "       '$200K-$250K(Employer est.)', '$135K-$214K (Glassdoor est.)',\n",
       "       '$119K-$188K (Glassdoor est.)', '$145K-$176K (Glassdoor est.)',\n",
       "       '$150K-$169K (Glassdoor est.)', '$121K-$192K (Glassdoor est.)',\n",
       "       '$141K-$225K (Glassdoor est.)', '$102K-$179K (Glassdoor est.)',\n",
       "       '$116K-$181K (Glassdoor est.)', '$112K-$178K (Glassdoor est.)',\n",
       "       '$100K-$152K (Glassdoor est.)', '$38K-$68K (Glassdoor est.)',\n",
       "       '$73K-$111K (Glassdoor est.)', '$82K-$129K(Employer est.)',\n",
       "       '$74K-$144K (Glassdoor est.)', '$41K-$66K (Glassdoor est.)',\n",
       "       '$59K-$113K (Glassdoor est.)', '$70K-$129K (Glassdoor est.)',\n",
       "       '$50K-$110K (Glassdoor est.)', '$62K-$112K (Glassdoor est.)',\n",
       "       '$114K-$185K (Glassdoor est.)', '$61K-$94K (Glassdoor est.)',\n",
       "       '$54K-$88K (Glassdoor est.)', '$66K-$130K (Glassdoor est.)',\n",
       "       '$96K-$155K (Glassdoor est.)', '$57K-$80K (Glassdoor est.)',\n",
       "       '$47K-$84K (Glassdoor est.)', '$39K-$71K (Glassdoor est.)',\n",
       "       '$55K-$98K (Glassdoor est.)', '$93K-$103K (Glassdoor est.)',\n",
       "       '$100K-$163K (Glassdoor est.)', '$98K-$160K (Glassdoor est.)',\n",
       "       '$52K-$94K (Glassdoor est.)', '$55K-$113K (Glassdoor est.)',\n",
       "       '$39K-$86K (Glassdoor est.)', '$55K-$112K (Glassdoor est.)'],\n",
       "      dtype=object)"
      ]
     },
     "execution_count": 166,
     "metadata": {},
     "output_type": "execute_result"
    }
   ],
   "source": [
    "df[\"Salary Estimate\"].unique()"
   ]
  },
  {
   "cell_type": "code",
   "execution_count": 167,
   "id": "44f33367",
   "metadata": {},
   "outputs": [],
   "source": [
    "# Removing (Glassdoor est.) for salary estimate\n",
    "salary = df[\"Salary Estimate\"].apply(lambda x: x.split('(')[0])\n",
    "# Removing \"K\" and \"$\"\n",
    "salary = salary.apply(lambda x: x.replace(\"K\",\"\").replace(\"$\", \"\"))"
   ]
  },
  {
   "cell_type": "code",
   "execution_count": 168,
   "id": "640b0c9a",
   "metadata": {},
   "outputs": [
    {
     "data": {
      "text/plain": [
       "0    111-181 \n",
       "1    111-181 \n",
       "2    111-181 \n",
       "3    111-181 \n",
       "4    111-181 \n",
       "Name: Salary Estimate, dtype: object"
      ]
     },
     "execution_count": 168,
     "metadata": {},
     "output_type": "execute_result"
    }
   ],
   "source": [
    "salary.head()"
   ]
  },
  {
   "cell_type": "code",
   "execution_count": 169,
   "id": "b0c7cc34",
   "metadata": {},
   "outputs": [
    {
     "data": {
      "text/plain": [
       "array(['111-181 ', '120-140 ', '119-147 ', '74-124 ', '102-121 ',\n",
       "       '129-210 ', '156-254 ', '116-152 ', '133-171 ', '110-139 ',\n",
       "       '82-141 ', '96-119 ', '146-175 ', '102-164 ', '113-180 ',\n",
       "       '76-122 ', '134-218 ', '76-125 ', '132-208 ', '83-105 ', '75-143 ',\n",
       "       '34-72 ', '37-75 ', '113-184 ', '136-164 ', '34-53 Per Hour',\n",
       "       '46-80 ', '79-130 ', '91-105 ', '31-56 ', '39-81 ', '99-174 ',\n",
       "       '76-147 ', '62-109 ', '70-123 ', '40-73 ', '38-59 ', '60-105 ',\n",
       "       '69-144 ', '47-82 ', '90-175 ', '39-87 ', '36-71 ', '55-117 ',\n",
       "       '114-144 ', '138-217 ', '72-97 ', '73-136 ', '10-26 Per Hour',\n",
       "       '94-151 ', '97-159 ', '46-104 ', '45-81 ', '92-144 ', '64-97 ',\n",
       "       '47-73 ', '84-156 ', '97-111 ', '84-101 ', '99-173 ', '93-151 ',\n",
       "       '50-87 ', '71-117 ', '44-80 ', '94-166 ', '65-100 ', '41-74 ',\n",
       "       '46-83 ', '45-106 ', '71-122 ', '143-237 ', '70-154 ', '68-89 ',\n",
       "       '55-101 ', '98-152 ', '54-92 ', '74-140 ', '83-154 ', '52-91 ',\n",
       "       '43-76 ', '17-27 Per Hour', '114-146 ', '60-124 ', '46-82 ',\n",
       "       '83-165 ', '39-69 ', '88-140 ', '74-129 ', '114-211 ', '75-149 ',\n",
       "       '112-211 ', '62-127 ', '86-178 ', '110-169 ', '12-112 ', '12-111 ',\n",
       "       '134-210 ', '49-78 ', '48-98 ', '85-159 ', '51-79 ', '49-92 ',\n",
       "       '85-147 ', '45-78 ', '48-89 ', '46-91 ', '73-102 ', '100-172 ',\n",
       "       '93-149 ', '148-174 ', '111-175 ', '150-237 ', '200-250',\n",
       "       '135-214 ', '119-188 ', '145-176 ', '150-169 ', '121-192 ',\n",
       "       '141-225 ', '102-179 ', '116-181 ', '112-178 ', '100-152 ',\n",
       "       '38-68 ', '73-111 ', '82-129', '74-144 ', '41-66 ', '59-113 ',\n",
       "       '70-129 ', '50-110 ', '62-112 ', '114-185 ', '61-94 ', '54-88 ',\n",
       "       '66-130 ', '96-155 ', '57-80 ', '47-84 ', '39-71 ', '55-98 ',\n",
       "       '93-103 ', '100-163 ', '98-160 ', '52-94 ', '55-113 ', '39-86 ',\n",
       "       '55-112 '], dtype=object)"
      ]
     },
     "execution_count": 169,
     "metadata": {},
     "output_type": "execute_result"
    }
   ],
   "source": [
    "salary.unique()"
   ]
  },
  {
   "cell_type": "markdown",
   "id": "047b3778",
   "metadata": {},
   "source": [
    "Salary estimate has \"per hour\" estimates so we need to add a column to account for that"
   ]
  },
  {
   "cell_type": "code",
   "execution_count": 170,
   "id": "80a7f743",
   "metadata": {},
   "outputs": [],
   "source": [
    "df[\"hourly\"] = df[\"Salary Estimate\"].apply(lambda x: 1 if \"per hour\" in x.lower() else 0)"
   ]
  },
  {
   "cell_type": "code",
   "execution_count": 171,
   "id": "b64cdbdf",
   "metadata": {},
   "outputs": [],
   "source": [
    "# Removing \"Per Hour\" from salary column\n",
    "salary = salary.apply(lambda x: x.lower().replace(\"per hour\", ''))"
   ]
  },
  {
   "cell_type": "code",
   "execution_count": 172,
   "id": "7f946e42",
   "metadata": {},
   "outputs": [],
   "source": [
    "# Splitting salary in min and max range, and average salary\n",
    "df[\"min_salary\"] = salary.apply(lambda x: int(x.split('-')[0]))\n",
    "df[\"max_salary\"] = salary.apply(lambda x: int(x.split(\"-\")[1]))\n",
    "df[\"avg_salary\"] = (df.min_salary + df.max_salary) / 2"
   ]
  },
  {
   "cell_type": "markdown",
   "id": "5ffd8fe8",
   "metadata": {},
   "source": [
    "## 2. Company name text only"
   ]
  },
  {
   "cell_type": "code",
   "execution_count": 173,
   "id": "6d5527ab",
   "metadata": {},
   "outputs": [
    {
     "data": {
      "text/html": [
       "<div>\n",
       "<style scoped>\n",
       "    .dataframe tbody tr th:only-of-type {\n",
       "        vertical-align: middle;\n",
       "    }\n",
       "\n",
       "    .dataframe tbody tr th {\n",
       "        vertical-align: top;\n",
       "    }\n",
       "\n",
       "    .dataframe thead th {\n",
       "        text-align: right;\n",
       "    }\n",
       "</style>\n",
       "<table border=\"1\" class=\"dataframe\">\n",
       "  <thead>\n",
       "    <tr style=\"text-align: right;\">\n",
       "      <th></th>\n",
       "      <th>Company Name</th>\n",
       "      <th>Rating</th>\n",
       "    </tr>\n",
       "  </thead>\n",
       "  <tbody>\n",
       "    <tr>\n",
       "      <th>0</th>\n",
       "      <td>Hopper\\n3.5</td>\n",
       "      <td>3.5</td>\n",
       "    </tr>\n",
       "    <tr>\n",
       "      <th>1</th>\n",
       "      <td>Noom US\\n4.5</td>\n",
       "      <td>4.5</td>\n",
       "    </tr>\n",
       "    <tr>\n",
       "      <th>2</th>\n",
       "      <td>Decode_M</td>\n",
       "      <td>-1.0</td>\n",
       "    </tr>\n",
       "    <tr>\n",
       "      <th>3</th>\n",
       "      <td>Sapphire Digital\\n3.4</td>\n",
       "      <td>3.4</td>\n",
       "    </tr>\n",
       "    <tr>\n",
       "      <th>4</th>\n",
       "      <td>United Entertainment Group\\n3.4</td>\n",
       "      <td>3.4</td>\n",
       "    </tr>\n",
       "  </tbody>\n",
       "</table>\n",
       "</div>"
      ],
      "text/plain": [
       "                      Company Name  Rating\n",
       "0                      Hopper\\n3.5     3.5\n",
       "1                     Noom US\\n4.5     4.5\n",
       "2                         Decode_M    -1.0\n",
       "3            Sapphire Digital\\n3.4     3.4\n",
       "4  United Entertainment Group\\n3.4     3.4"
      ]
     },
     "execution_count": 173,
     "metadata": {},
     "output_type": "execute_result"
    }
   ],
   "source": [
    "df[[\"Company Name\", \"Rating\"]].head()"
   ]
  },
  {
   "cell_type": "markdown",
   "id": "373fec3a",
   "metadata": {},
   "source": [
    "It looks like that every company that has a rating has the rating added at the end of the name in addition to \"\\n\".\n",
    "We are going to clean the name by removing the last four characters of the companies that have received a rating."
   ]
  },
  {
   "cell_type": "code",
   "execution_count": 174,
   "id": "94870ec7",
   "metadata": {},
   "outputs": [],
   "source": [
    "df[\"company_name\"] = df.apply(lambda x: x[\"Company Name\"] if x[\"Rating\"] < 0 else x[\"Company Name\"][:-4], axis=1)"
   ]
  },
  {
   "cell_type": "markdown",
   "id": "11606899",
   "metadata": {},
   "source": [
    "## 3. Age of Company"
   ]
  },
  {
   "cell_type": "code",
   "execution_count": 175,
   "id": "040b4ed8",
   "metadata": {},
   "outputs": [],
   "source": [
    "# Adding age column\n",
    "df[\"age\"] = df.Founded.apply(lambda x: x if x < 0 else 2022 - x)"
   ]
  },
  {
   "cell_type": "markdown",
   "id": "df9d8a2f",
   "metadata": {},
   "source": [
    "## 4. Parsing of job description (python, etc.)"
   ]
  },
  {
   "cell_type": "markdown",
   "id": "1790de74",
   "metadata": {},
   "source": [
    "Here we parse thorugh the job description to see if some position require the main tools for a data scientist."
   ]
  },
  {
   "cell_type": "code",
   "execution_count": 176,
   "id": "c57f8597",
   "metadata": {},
   "outputs": [],
   "source": [
    "# Python\n",
    "df[\"python_yn\"] = df[\"Job Description\"].apply(lambda x: 1 if \"python\" in x.lower() else 0)"
   ]
  },
  {
   "cell_type": "code",
   "execution_count": 177,
   "id": "0e1649d4",
   "metadata": {},
   "outputs": [],
   "source": [
    "# R studio\n",
    "df[\"rstudio_yn\"] = df[\"Job Description\"].apply(lambda x: 1 if \"r studio\" in x.lower() or \"r-studio\" in x.lower() else 0)"
   ]
  },
  {
   "cell_type": "code",
   "execution_count": 178,
   "id": "3f9ccced",
   "metadata": {},
   "outputs": [],
   "source": [
    "# Spark\n",
    "df[\"spark_yn\"] = df[\"Job Description\"].apply(lambda x: 1 if \"spark\" in x.lower() else 0)"
   ]
  },
  {
   "cell_type": "code",
   "execution_count": 179,
   "id": "1d831508",
   "metadata": {},
   "outputs": [],
   "source": [
    "# aws\n",
    "df[\"aws_yn\"] = df[\"Job Description\"].apply(lambda x: 1 if \"aws\" in x.lower() else 0)"
   ]
  },
  {
   "cell_type": "code",
   "execution_count": 180,
   "id": "d5a1eb3e",
   "metadata": {},
   "outputs": [],
   "source": [
    "# Excel\n",
    "df[\"excel_yn\"] = df[\"Job Description\"].apply(lambda x: 1 if \"excel\" in x.lower() else 0)"
   ]
  },
  {
   "cell_type": "markdown",
   "id": "590ba9bf",
   "metadata": {},
   "source": [
    "## 5. Is job position at headquarter?"
   ]
  },
  {
   "cell_type": "code",
   "execution_count": 181,
   "id": "ff4fd25b",
   "metadata": {},
   "outputs": [],
   "source": [
    "# Creating a flag to see if the job posting is at headquarters\n",
    "df[\"same_state\"] = df.apply(lambda x: 1 if x.Location == x.Headquarters else 0, axis=1)"
   ]
  },
  {
   "cell_type": "code",
   "execution_count": 182,
   "id": "23c9d92e",
   "metadata": {},
   "outputs": [
    {
     "data": {
      "text/html": [
       "<div>\n",
       "<style scoped>\n",
       "    .dataframe tbody tr th:only-of-type {\n",
       "        vertical-align: middle;\n",
       "    }\n",
       "\n",
       "    .dataframe tbody tr th {\n",
       "        vertical-align: top;\n",
       "    }\n",
       "\n",
       "    .dataframe thead th {\n",
       "        text-align: right;\n",
       "    }\n",
       "</style>\n",
       "<table border=\"1\" class=\"dataframe\">\n",
       "  <thead>\n",
       "    <tr style=\"text-align: right;\">\n",
       "      <th></th>\n",
       "      <th>Unnamed: 0</th>\n",
       "      <th>index</th>\n",
       "      <th>Job Title</th>\n",
       "      <th>Salary Estimate</th>\n",
       "      <th>Job Description</th>\n",
       "      <th>Rating</th>\n",
       "      <th>Company Name</th>\n",
       "      <th>Location</th>\n",
       "      <th>Headquarters</th>\n",
       "      <th>Size</th>\n",
       "      <th>...</th>\n",
       "      <th>max_salary</th>\n",
       "      <th>avg_salary</th>\n",
       "      <th>company_name</th>\n",
       "      <th>age</th>\n",
       "      <th>python_yn</th>\n",
       "      <th>rstudio_yn</th>\n",
       "      <th>spark_yn</th>\n",
       "      <th>aws_yn</th>\n",
       "      <th>excel_yn</th>\n",
       "      <th>same_state</th>\n",
       "    </tr>\n",
       "  </thead>\n",
       "  <tbody>\n",
       "    <tr>\n",
       "      <th>0</th>\n",
       "      <td>0</td>\n",
       "      <td>0</td>\n",
       "      <td>Senior Data Scientist</td>\n",
       "      <td>$111K-$181K (Glassdoor est.)</td>\n",
       "      <td>ABOUT HOPPER\\n\\nAt Hopper, we’re on a mission ...</td>\n",
       "      <td>3.5</td>\n",
       "      <td>Hopper\\n3.5</td>\n",
       "      <td>New York, NY</td>\n",
       "      <td>Montreal, Canada</td>\n",
       "      <td>501 to 1000 employees</td>\n",
       "      <td>...</td>\n",
       "      <td>181</td>\n",
       "      <td>146.0</td>\n",
       "      <td>Hopper</td>\n",
       "      <td>15</td>\n",
       "      <td>0</td>\n",
       "      <td>0</td>\n",
       "      <td>0</td>\n",
       "      <td>0</td>\n",
       "      <td>0</td>\n",
       "      <td>0</td>\n",
       "    </tr>\n",
       "    <tr>\n",
       "      <th>1</th>\n",
       "      <td>1</td>\n",
       "      <td>1</td>\n",
       "      <td>Data Scientist, Product Analytics</td>\n",
       "      <td>$111K-$181K (Glassdoor est.)</td>\n",
       "      <td>At Noom, we use scientifically proven methods ...</td>\n",
       "      <td>4.5</td>\n",
       "      <td>Noom US\\n4.5</td>\n",
       "      <td>New York, NY</td>\n",
       "      <td>New York, NY</td>\n",
       "      <td>1001 to 5000 employees</td>\n",
       "      <td>...</td>\n",
       "      <td>181</td>\n",
       "      <td>146.0</td>\n",
       "      <td>Noom US</td>\n",
       "      <td>14</td>\n",
       "      <td>1</td>\n",
       "      <td>0</td>\n",
       "      <td>0</td>\n",
       "      <td>0</td>\n",
       "      <td>1</td>\n",
       "      <td>1</td>\n",
       "    </tr>\n",
       "    <tr>\n",
       "      <th>2</th>\n",
       "      <td>2</td>\n",
       "      <td>2</td>\n",
       "      <td>Data Science Manager</td>\n",
       "      <td>$111K-$181K (Glassdoor est.)</td>\n",
       "      <td>Decode_M\\n\\nhttps://www.decode-m.com/\\n\\nData ...</td>\n",
       "      <td>-1.0</td>\n",
       "      <td>Decode_M</td>\n",
       "      <td>New York, NY</td>\n",
       "      <td>New York, NY</td>\n",
       "      <td>1 to 50 employees</td>\n",
       "      <td>...</td>\n",
       "      <td>181</td>\n",
       "      <td>146.0</td>\n",
       "      <td>Decode_M</td>\n",
       "      <td>-1</td>\n",
       "      <td>1</td>\n",
       "      <td>0</td>\n",
       "      <td>0</td>\n",
       "      <td>0</td>\n",
       "      <td>1</td>\n",
       "      <td>1</td>\n",
       "    </tr>\n",
       "    <tr>\n",
       "      <th>3</th>\n",
       "      <td>3</td>\n",
       "      <td>3</td>\n",
       "      <td>Data Analyst</td>\n",
       "      <td>$111K-$181K (Glassdoor est.)</td>\n",
       "      <td>Sapphire Digital seeks a dynamic and driven mi...</td>\n",
       "      <td>3.4</td>\n",
       "      <td>Sapphire Digital\\n3.4</td>\n",
       "      <td>Lyndhurst, NJ</td>\n",
       "      <td>Lyndhurst, NJ</td>\n",
       "      <td>201 to 500 employees</td>\n",
       "      <td>...</td>\n",
       "      <td>181</td>\n",
       "      <td>146.0</td>\n",
       "      <td>Sapphire Digital</td>\n",
       "      <td>3</td>\n",
       "      <td>1</td>\n",
       "      <td>0</td>\n",
       "      <td>0</td>\n",
       "      <td>0</td>\n",
       "      <td>1</td>\n",
       "      <td>1</td>\n",
       "    </tr>\n",
       "    <tr>\n",
       "      <th>4</th>\n",
       "      <td>4</td>\n",
       "      <td>4</td>\n",
       "      <td>Director, Data Science</td>\n",
       "      <td>$111K-$181K (Glassdoor est.)</td>\n",
       "      <td>Director, Data Science - (200537)\\nDescription...</td>\n",
       "      <td>3.4</td>\n",
       "      <td>United Entertainment Group\\n3.4</td>\n",
       "      <td>New York, NY</td>\n",
       "      <td>New York, NY</td>\n",
       "      <td>51 to 200 employees</td>\n",
       "      <td>...</td>\n",
       "      <td>181</td>\n",
       "      <td>146.0</td>\n",
       "      <td>United Entertainment Group</td>\n",
       "      <td>15</td>\n",
       "      <td>1</td>\n",
       "      <td>0</td>\n",
       "      <td>0</td>\n",
       "      <td>0</td>\n",
       "      <td>1</td>\n",
       "      <td>1</td>\n",
       "    </tr>\n",
       "  </tbody>\n",
       "</table>\n",
       "<p>5 rows × 29 columns</p>\n",
       "</div>"
      ],
      "text/plain": [
       "   Unnamed: 0  index                          Job Title  \\\n",
       "0           0      0              Senior Data Scientist   \n",
       "1           1      1  Data Scientist, Product Analytics   \n",
       "2           2      2               Data Science Manager   \n",
       "3           3      3                       Data Analyst   \n",
       "4           4      4             Director, Data Science   \n",
       "\n",
       "                Salary Estimate  \\\n",
       "0  $111K-$181K (Glassdoor est.)   \n",
       "1  $111K-$181K (Glassdoor est.)   \n",
       "2  $111K-$181K (Glassdoor est.)   \n",
       "3  $111K-$181K (Glassdoor est.)   \n",
       "4  $111K-$181K (Glassdoor est.)   \n",
       "\n",
       "                                     Job Description  Rating  \\\n",
       "0  ABOUT HOPPER\\n\\nAt Hopper, we’re on a mission ...     3.5   \n",
       "1  At Noom, we use scientifically proven methods ...     4.5   \n",
       "2  Decode_M\\n\\nhttps://www.decode-m.com/\\n\\nData ...    -1.0   \n",
       "3  Sapphire Digital seeks a dynamic and driven mi...     3.4   \n",
       "4  Director, Data Science - (200537)\\nDescription...     3.4   \n",
       "\n",
       "                      Company Name       Location      Headquarters  \\\n",
       "0                      Hopper\\n3.5   New York, NY  Montreal, Canada   \n",
       "1                     Noom US\\n4.5   New York, NY      New York, NY   \n",
       "2                         Decode_M   New York, NY      New York, NY   \n",
       "3            Sapphire Digital\\n3.4  Lyndhurst, NJ     Lyndhurst, NJ   \n",
       "4  United Entertainment Group\\n3.4   New York, NY      New York, NY   \n",
       "\n",
       "                     Size  ...  max_salary avg_salary  \\\n",
       "0   501 to 1000 employees  ...         181      146.0   \n",
       "1  1001 to 5000 employees  ...         181      146.0   \n",
       "2       1 to 50 employees  ...         181      146.0   \n",
       "3    201 to 500 employees  ...         181      146.0   \n",
       "4     51 to 200 employees  ...         181      146.0   \n",
       "\n",
       "                 company_name age python_yn rstudio_yn spark_yn  aws_yn  \\\n",
       "0                      Hopper  15         0          0        0       0   \n",
       "1                     Noom US  14         1          0        0       0   \n",
       "2                    Decode_M  -1         1          0        0       0   \n",
       "3            Sapphire Digital   3         1          0        0       0   \n",
       "4  United Entertainment Group  15         1          0        0       0   \n",
       "\n",
       "   excel_yn  same_state  \n",
       "0         0           0  \n",
       "1         1           1  \n",
       "2         1           1  \n",
       "3         1           1  \n",
       "4         1           1  \n",
       "\n",
       "[5 rows x 29 columns]"
      ]
     },
     "execution_count": 182,
     "metadata": {},
     "output_type": "execute_result"
    }
   ],
   "source": [
    "df.head()"
   ]
  },
  {
   "cell_type": "markdown",
   "id": "8233f8ce",
   "metadata": {},
   "source": [
    "## 6. Simplifying Job Titles"
   ]
  },
  {
   "cell_type": "code",
   "execution_count": 183,
   "id": "0ae5c1cc",
   "metadata": {},
   "outputs": [],
   "source": [
    "def simple_title(title):\n",
    "    if 'data scientist' in title.lower():\n",
    "        return 'data scientist'\n",
    "    if 'data engineer' in title.lower():\n",
    "        return 'data engineer'\n",
    "    if 'analyst' in title.lower():\n",
    "        return 'analyst'\n",
    "    if 'machine learning' in title.lower():\n",
    "        return 'machine learning'\n",
    "    if 'director' in title.lower():\n",
    "        return 'director'\n",
    "    else:\n",
    "        return 'na'"
   ]
  },
  {
   "cell_type": "code",
   "execution_count": 184,
   "id": "4855fbef",
   "metadata": {},
   "outputs": [],
   "source": [
    "df['job_simple'] = df['Job Title'].apply(simple_title)"
   ]
  },
  {
   "cell_type": "code",
   "execution_count": 185,
   "id": "fdb5717f",
   "metadata": {},
   "outputs": [
    {
     "data": {
      "text/plain": [
       "na                  1127\n",
       "data scientist       984\n",
       "analyst              880\n",
       "data engineer        742\n",
       "machine learning     140\n",
       "director              36\n",
       "Name: job_simple, dtype: int64"
      ]
     },
     "execution_count": 185,
     "metadata": {},
     "output_type": "execute_result"
    }
   ],
   "source": [
    "df.job_simple.value_counts()"
   ]
  },
  {
   "cell_type": "markdown",
   "id": "a434f276",
   "metadata": {},
   "source": [
    "## 7. Seniority"
   ]
  },
  {
   "cell_type": "code",
   "execution_count": 186,
   "id": "c4acf4a5",
   "metadata": {},
   "outputs": [],
   "source": [
    "def seniority(title):\n",
    "    if 'sr' in title.lower() or 'senior' in title.lower() or 'lead' in title.lower() or 'principal' in title.lower():\n",
    "        return 'senior'\n",
    "    elif 'jr' in title.lower() or 'junior' in title.lower():\n",
    "        return 'junior'\n",
    "    else:\n",
    "        return 'na'"
   ]
  },
  {
   "cell_type": "code",
   "execution_count": 187,
   "id": "285e86b4",
   "metadata": {},
   "outputs": [],
   "source": [
    "df['seniority'] = df['Job Title'].apply(seniority)"
   ]
  },
  {
   "cell_type": "code",
   "execution_count": 188,
   "id": "a83cd9e2",
   "metadata": {},
   "outputs": [
    {
     "data": {
      "text/plain": [
       "na        2961\n",
       "senior     903\n",
       "junior      45\n",
       "Name: seniority, dtype: int64"
      ]
     },
     "execution_count": 188,
     "metadata": {},
     "output_type": "execute_result"
    }
   ],
   "source": [
    "df.seniority.value_counts()"
   ]
  },
  {
   "cell_type": "markdown",
   "id": "4c113af8",
   "metadata": {},
   "source": [
    "## 8. State and City"
   ]
  },
  {
   "cell_type": "code",
   "execution_count": 189,
   "id": "5dd49bbe",
   "metadata": {},
   "outputs": [
    {
     "data": {
      "text/plain": [
       " TX                1253\n",
       " CA                1069\n",
       " IL                 363\n",
       " PA                 324\n",
       " NY                 313\n",
       " AZ                 295\n",
       " OH                 177\n",
       " FL                  69\n",
       " NJ                  32\n",
       " DE                  10\n",
       " United Kingdom       4\n",
       "Name: job_state, dtype: int64"
      ]
     },
     "execution_count": 189,
     "metadata": {},
     "output_type": "execute_result"
    }
   ],
   "source": [
    "# Getting the State of the location\n",
    "df['job_state'] = df['Location'].apply(lambda x: x.split(',')[1])\n",
    "df.job_state.value_counts()"
   ]
  },
  {
   "cell_type": "code",
   "execution_count": 190,
   "id": "7afdb869",
   "metadata": {},
   "outputs": [],
   "source": [
    "# Removing trailing spaces in the state field\n",
    "df.job_state = df.job_state.apply(lambda x: x.strip())"
   ]
  },
  {
   "cell_type": "code",
   "execution_count": 191,
   "id": "db213994",
   "metadata": {},
   "outputs": [
    {
     "data": {
      "text/plain": [
       "TX                1253\n",
       "CA                1069\n",
       "IL                 363\n",
       "PA                 324\n",
       "NY                 313\n",
       "AZ                 295\n",
       "OH                 177\n",
       "FL                  69\n",
       "NJ                  32\n",
       "DE                  10\n",
       "United Kingdom       4\n",
       "Name: job_state, dtype: int64"
      ]
     },
     "execution_count": 191,
     "metadata": {},
     "output_type": "execute_result"
    }
   ],
   "source": [
    "df.job_state.value_counts()"
   ]
  },
  {
   "cell_type": "code",
   "execution_count": 192,
   "id": "2a7a2044",
   "metadata": {},
   "outputs": [],
   "source": [
    "# Removing instances where state is \"United Kingdom\"\n",
    "df = df[df.job_state != \"United Kingdom\"]"
   ]
  },
  {
   "cell_type": "code",
   "execution_count": 193,
   "id": "49998a58",
   "metadata": {},
   "outputs": [
    {
     "data": {
      "text/plain": [
       "TX    1253\n",
       "CA    1069\n",
       "IL     363\n",
       "PA     324\n",
       "NY     313\n",
       "AZ     295\n",
       "OH     177\n",
       "FL      69\n",
       "NJ      32\n",
       "DE      10\n",
       "Name: job_state, dtype: int64"
      ]
     },
     "execution_count": 193,
     "metadata": {},
     "output_type": "execute_result"
    }
   ],
   "source": [
    "df.job_state.value_counts()"
   ]
  },
  {
   "cell_type": "markdown",
   "id": "f557f125",
   "metadata": {},
   "source": [
    "## 9. Competitor Count"
   ]
  },
  {
   "cell_type": "code",
   "execution_count": 194,
   "id": "4c512ca9",
   "metadata": {},
   "outputs": [],
   "source": [
    "df[\"competitor_count\"] = df[\"Competitors\"].apply(lambda x: len(x.split(',')) if x != '-1' else 0)"
   ]
  },
  {
   "cell_type": "markdown",
   "id": "a090f8c7",
   "metadata": {},
   "source": [
    "## 10. Hourly wage to annual"
   ]
  },
  {
   "cell_type": "code",
   "execution_count": 196,
   "id": "f854cdcd",
   "metadata": {},
   "outputs": [],
   "source": [
    "# We convert by multiplying by 2 to get an approximate the salary (we would multiply by 2,000 but all salary are stripped of three zeros)\n",
    "df.min_salary = df.apply(lambda x: x.min_salary * 2 if x.hourly == 1 else x.min_salary, axis=1)\n",
    "df.max_salary = df.apply(lambda x: x.max_salary * 2 if x.hourly == 1 else x.max_salary, axis=1)"
   ]
  },
  {
   "cell_type": "markdown",
   "id": "15023520",
   "metadata": {},
   "source": [
    "## 11. Description Length"
   ]
  },
  {
   "cell_type": "code",
   "execution_count": 202,
   "id": "8ead3838",
   "metadata": {},
   "outputs": [],
   "source": [
    "df['desc_len'] = df['Job Description'].apply(lambda x: len(x))"
   ]
  },
  {
   "cell_type": "code",
   "execution_count": 203,
   "id": "c8df1a36",
   "metadata": {},
   "outputs": [
    {
     "ename": "KeyError",
     "evalue": "\"['Unnamed: 0'] not found in axis\"",
     "output_type": "error",
     "traceback": [
      "\u001b[0;31m---------------------------------------------------------------------------\u001b[0m",
      "\u001b[0;31mKeyError\u001b[0m                                  Traceback (most recent call last)",
      "Input \u001b[0;32mIn [203]\u001b[0m, in \u001b[0;36m<cell line: 2>\u001b[0;34m()\u001b[0m\n\u001b[1;32m      1\u001b[0m \u001b[38;5;66;03m# Droppung first column\u001b[39;00m\n\u001b[0;32m----> 2\u001b[0m \u001b[43mdf\u001b[49m\u001b[38;5;241;43m.\u001b[39;49m\u001b[43mdrop\u001b[49m\u001b[43m(\u001b[49m\u001b[38;5;124;43m\"\u001b[39;49m\u001b[38;5;124;43mUnnamed: 0\u001b[39;49m\u001b[38;5;124;43m\"\u001b[39;49m\u001b[43m,\u001b[49m\u001b[43m \u001b[49m\u001b[43maxis\u001b[49m\u001b[38;5;241;43m=\u001b[39;49m\u001b[38;5;241;43m1\u001b[39;49m\u001b[43m,\u001b[49m\u001b[43m \u001b[49m\u001b[43minplace\u001b[49m\u001b[38;5;241;43m=\u001b[39;49m\u001b[38;5;28;43;01mTrue\u001b[39;49;00m\u001b[43m)\u001b[49m\n",
      "File \u001b[0;32m~/opt/anaconda3/lib/python3.9/site-packages/pandas/util/_decorators.py:311\u001b[0m, in \u001b[0;36mdeprecate_nonkeyword_arguments.<locals>.decorate.<locals>.wrapper\u001b[0;34m(*args, **kwargs)\u001b[0m\n\u001b[1;32m    305\u001b[0m \u001b[38;5;28;01mif\u001b[39;00m \u001b[38;5;28mlen\u001b[39m(args) \u001b[38;5;241m>\u001b[39m num_allow_args:\n\u001b[1;32m    306\u001b[0m     warnings\u001b[38;5;241m.\u001b[39mwarn(\n\u001b[1;32m    307\u001b[0m         msg\u001b[38;5;241m.\u001b[39mformat(arguments\u001b[38;5;241m=\u001b[39marguments),\n\u001b[1;32m    308\u001b[0m         \u001b[38;5;167;01mFutureWarning\u001b[39;00m,\n\u001b[1;32m    309\u001b[0m         stacklevel\u001b[38;5;241m=\u001b[39mstacklevel,\n\u001b[1;32m    310\u001b[0m     )\n\u001b[0;32m--> 311\u001b[0m \u001b[38;5;28;01mreturn\u001b[39;00m \u001b[43mfunc\u001b[49m\u001b[43m(\u001b[49m\u001b[38;5;241;43m*\u001b[39;49m\u001b[43margs\u001b[49m\u001b[43m,\u001b[49m\u001b[43m \u001b[49m\u001b[38;5;241;43m*\u001b[39;49m\u001b[38;5;241;43m*\u001b[39;49m\u001b[43mkwargs\u001b[49m\u001b[43m)\u001b[49m\n",
      "File \u001b[0;32m~/opt/anaconda3/lib/python3.9/site-packages/pandas/core/frame.py:4954\u001b[0m, in \u001b[0;36mDataFrame.drop\u001b[0;34m(self, labels, axis, index, columns, level, inplace, errors)\u001b[0m\n\u001b[1;32m   4806\u001b[0m \u001b[38;5;129m@deprecate_nonkeyword_arguments\u001b[39m(version\u001b[38;5;241m=\u001b[39m\u001b[38;5;28;01mNone\u001b[39;00m, allowed_args\u001b[38;5;241m=\u001b[39m[\u001b[38;5;124m\"\u001b[39m\u001b[38;5;124mself\u001b[39m\u001b[38;5;124m\"\u001b[39m, \u001b[38;5;124m\"\u001b[39m\u001b[38;5;124mlabels\u001b[39m\u001b[38;5;124m\"\u001b[39m])\n\u001b[1;32m   4807\u001b[0m \u001b[38;5;28;01mdef\u001b[39;00m \u001b[38;5;21mdrop\u001b[39m(\n\u001b[1;32m   4808\u001b[0m     \u001b[38;5;28mself\u001b[39m,\n\u001b[0;32m   (...)\u001b[0m\n\u001b[1;32m   4815\u001b[0m     errors: \u001b[38;5;28mstr\u001b[39m \u001b[38;5;241m=\u001b[39m \u001b[38;5;124m\"\u001b[39m\u001b[38;5;124mraise\u001b[39m\u001b[38;5;124m\"\u001b[39m,\n\u001b[1;32m   4816\u001b[0m ):\n\u001b[1;32m   4817\u001b[0m     \u001b[38;5;124;03m\"\"\"\u001b[39;00m\n\u001b[1;32m   4818\u001b[0m \u001b[38;5;124;03m    Drop specified labels from rows or columns.\u001b[39;00m\n\u001b[1;32m   4819\u001b[0m \n\u001b[0;32m   (...)\u001b[0m\n\u001b[1;32m   4952\u001b[0m \u001b[38;5;124;03m            weight  1.0     0.8\u001b[39;00m\n\u001b[1;32m   4953\u001b[0m \u001b[38;5;124;03m    \"\"\"\u001b[39;00m\n\u001b[0;32m-> 4954\u001b[0m     \u001b[38;5;28;01mreturn\u001b[39;00m \u001b[38;5;28;43msuper\u001b[39;49m\u001b[43m(\u001b[49m\u001b[43m)\u001b[49m\u001b[38;5;241;43m.\u001b[39;49m\u001b[43mdrop\u001b[49m\u001b[43m(\u001b[49m\n\u001b[1;32m   4955\u001b[0m \u001b[43m        \u001b[49m\u001b[43mlabels\u001b[49m\u001b[38;5;241;43m=\u001b[39;49m\u001b[43mlabels\u001b[49m\u001b[43m,\u001b[49m\n\u001b[1;32m   4956\u001b[0m \u001b[43m        \u001b[49m\u001b[43maxis\u001b[49m\u001b[38;5;241;43m=\u001b[39;49m\u001b[43maxis\u001b[49m\u001b[43m,\u001b[49m\n\u001b[1;32m   4957\u001b[0m \u001b[43m        \u001b[49m\u001b[43mindex\u001b[49m\u001b[38;5;241;43m=\u001b[39;49m\u001b[43mindex\u001b[49m\u001b[43m,\u001b[49m\n\u001b[1;32m   4958\u001b[0m \u001b[43m        \u001b[49m\u001b[43mcolumns\u001b[49m\u001b[38;5;241;43m=\u001b[39;49m\u001b[43mcolumns\u001b[49m\u001b[43m,\u001b[49m\n\u001b[1;32m   4959\u001b[0m \u001b[43m        \u001b[49m\u001b[43mlevel\u001b[49m\u001b[38;5;241;43m=\u001b[39;49m\u001b[43mlevel\u001b[49m\u001b[43m,\u001b[49m\n\u001b[1;32m   4960\u001b[0m \u001b[43m        \u001b[49m\u001b[43minplace\u001b[49m\u001b[38;5;241;43m=\u001b[39;49m\u001b[43minplace\u001b[49m\u001b[43m,\u001b[49m\n\u001b[1;32m   4961\u001b[0m \u001b[43m        \u001b[49m\u001b[43merrors\u001b[49m\u001b[38;5;241;43m=\u001b[39;49m\u001b[43merrors\u001b[49m\u001b[43m,\u001b[49m\n\u001b[1;32m   4962\u001b[0m \u001b[43m    \u001b[49m\u001b[43m)\u001b[49m\n",
      "File \u001b[0;32m~/opt/anaconda3/lib/python3.9/site-packages/pandas/core/generic.py:4267\u001b[0m, in \u001b[0;36mNDFrame.drop\u001b[0;34m(self, labels, axis, index, columns, level, inplace, errors)\u001b[0m\n\u001b[1;32m   4265\u001b[0m \u001b[38;5;28;01mfor\u001b[39;00m axis, labels \u001b[38;5;129;01min\u001b[39;00m axes\u001b[38;5;241m.\u001b[39mitems():\n\u001b[1;32m   4266\u001b[0m     \u001b[38;5;28;01mif\u001b[39;00m labels \u001b[38;5;129;01mis\u001b[39;00m \u001b[38;5;129;01mnot\u001b[39;00m \u001b[38;5;28;01mNone\u001b[39;00m:\n\u001b[0;32m-> 4267\u001b[0m         obj \u001b[38;5;241m=\u001b[39m \u001b[43mobj\u001b[49m\u001b[38;5;241;43m.\u001b[39;49m\u001b[43m_drop_axis\u001b[49m\u001b[43m(\u001b[49m\u001b[43mlabels\u001b[49m\u001b[43m,\u001b[49m\u001b[43m \u001b[49m\u001b[43maxis\u001b[49m\u001b[43m,\u001b[49m\u001b[43m \u001b[49m\u001b[43mlevel\u001b[49m\u001b[38;5;241;43m=\u001b[39;49m\u001b[43mlevel\u001b[49m\u001b[43m,\u001b[49m\u001b[43m \u001b[49m\u001b[43merrors\u001b[49m\u001b[38;5;241;43m=\u001b[39;49m\u001b[43merrors\u001b[49m\u001b[43m)\u001b[49m\n\u001b[1;32m   4269\u001b[0m \u001b[38;5;28;01mif\u001b[39;00m inplace:\n\u001b[1;32m   4270\u001b[0m     \u001b[38;5;28mself\u001b[39m\u001b[38;5;241m.\u001b[39m_update_inplace(obj)\n",
      "File \u001b[0;32m~/opt/anaconda3/lib/python3.9/site-packages/pandas/core/generic.py:4311\u001b[0m, in \u001b[0;36mNDFrame._drop_axis\u001b[0;34m(self, labels, axis, level, errors, consolidate, only_slice)\u001b[0m\n\u001b[1;32m   4309\u001b[0m         new_axis \u001b[38;5;241m=\u001b[39m axis\u001b[38;5;241m.\u001b[39mdrop(labels, level\u001b[38;5;241m=\u001b[39mlevel, errors\u001b[38;5;241m=\u001b[39merrors)\n\u001b[1;32m   4310\u001b[0m     \u001b[38;5;28;01melse\u001b[39;00m:\n\u001b[0;32m-> 4311\u001b[0m         new_axis \u001b[38;5;241m=\u001b[39m \u001b[43maxis\u001b[49m\u001b[38;5;241;43m.\u001b[39;49m\u001b[43mdrop\u001b[49m\u001b[43m(\u001b[49m\u001b[43mlabels\u001b[49m\u001b[43m,\u001b[49m\u001b[43m \u001b[49m\u001b[43merrors\u001b[49m\u001b[38;5;241;43m=\u001b[39;49m\u001b[43merrors\u001b[49m\u001b[43m)\u001b[49m\n\u001b[1;32m   4312\u001b[0m     indexer \u001b[38;5;241m=\u001b[39m axis\u001b[38;5;241m.\u001b[39mget_indexer(new_axis)\n\u001b[1;32m   4314\u001b[0m \u001b[38;5;66;03m# Case for non-unique axis\u001b[39;00m\n\u001b[1;32m   4315\u001b[0m \u001b[38;5;28;01melse\u001b[39;00m:\n",
      "File \u001b[0;32m~/opt/anaconda3/lib/python3.9/site-packages/pandas/core/indexes/base.py:6644\u001b[0m, in \u001b[0;36mIndex.drop\u001b[0;34m(self, labels, errors)\u001b[0m\n\u001b[1;32m   6642\u001b[0m \u001b[38;5;28;01mif\u001b[39;00m mask\u001b[38;5;241m.\u001b[39many():\n\u001b[1;32m   6643\u001b[0m     \u001b[38;5;28;01mif\u001b[39;00m errors \u001b[38;5;241m!=\u001b[39m \u001b[38;5;124m\"\u001b[39m\u001b[38;5;124mignore\u001b[39m\u001b[38;5;124m\"\u001b[39m:\n\u001b[0;32m-> 6644\u001b[0m         \u001b[38;5;28;01mraise\u001b[39;00m \u001b[38;5;167;01mKeyError\u001b[39;00m(\u001b[38;5;124mf\u001b[39m\u001b[38;5;124m\"\u001b[39m\u001b[38;5;132;01m{\u001b[39;00m\u001b[38;5;28mlist\u001b[39m(labels[mask])\u001b[38;5;132;01m}\u001b[39;00m\u001b[38;5;124m not found in axis\u001b[39m\u001b[38;5;124m\"\u001b[39m)\n\u001b[1;32m   6645\u001b[0m     indexer \u001b[38;5;241m=\u001b[39m indexer[\u001b[38;5;241m~\u001b[39mmask]\n\u001b[1;32m   6646\u001b[0m \u001b[38;5;28;01mreturn\u001b[39;00m \u001b[38;5;28mself\u001b[39m\u001b[38;5;241m.\u001b[39mdelete(indexer)\n",
      "\u001b[0;31mKeyError\u001b[0m: \"['Unnamed: 0'] not found in axis\""
     ]
    }
   ],
   "source": [
    "# Droppung first column\n",
    "df.drop(\"Unnamed: 0\", axis=1, inplace=True)"
   ]
  },
  {
   "cell_type": "code",
   "execution_count": 205,
   "id": "df7d22c0",
   "metadata": {},
   "outputs": [],
   "source": [
    "# Making csv\n",
    "df.to_csv(\"/path/salary_cleaned.csv\", index=False)"
   ]
  },
  {
   "cell_type": "code",
   "execution_count": null,
   "id": "503fcaf2",
   "metadata": {},
   "outputs": [],
   "source": []
  }
 ],
 "metadata": {
  "kernelspec": {
   "display_name": "Python 3 (ipykernel)",
   "language": "python",
   "name": "python3"
  },
  "language_info": {
   "codemirror_mode": {
    "name": "ipython",
    "version": 3
   },
   "file_extension": ".py",
   "mimetype": "text/x-python",
   "name": "python",
   "nbconvert_exporter": "python",
   "pygments_lexer": "ipython3",
   "version": "3.9.12"
  }
 },
 "nbformat": 4,
 "nbformat_minor": 5
}
